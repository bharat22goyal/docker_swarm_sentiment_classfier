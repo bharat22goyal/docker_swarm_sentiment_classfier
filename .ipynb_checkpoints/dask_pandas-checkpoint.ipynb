{
 "cells": [
  {
   "cell_type": "code",
   "execution_count": 1,
   "id": "c9359bcd-462c-4382-9506-4a055ee48883",
   "metadata": {},
   "outputs": [],
   "source": [
    "from dask import dataframe as ddf\n",
    "import pandas as pd\n",
    "from dask.distributed import Client, LocalCluster\n",
    "from dask.delayed import delayed"
   ]
  },
  {
   "cell_type": "code",
   "execution_count": 2,
   "id": "3f46142f-e818-42ae-bbad-65ceeaf1334c",
   "metadata": {},
   "outputs": [],
   "source": [
    "# cluster = LocalCluster()\n",
    "# client = Client(cluster)\n",
    "# client"
   ]
  },
  {
   "cell_type": "code",
   "execution_count": 11,
   "id": "90eee67f-a5ae-4fd0-b5d2-431c95533175",
   "metadata": {},
   "outputs": [
    {
     "name": "stdout",
     "output_type": "stream",
     "text": [
      "         target         ids                          date      flag  \\\n",
      "0             0  1467810369  Mon Apr 06 22:19:45 PDT 2009  NO_QUERY   \n",
      "1             0  1467810672  Mon Apr 06 22:19:49 PDT 2009  NO_QUERY   \n",
      "2             0  1467810917  Mon Apr 06 22:19:53 PDT 2009  NO_QUERY   \n",
      "3             0  1467811184  Mon Apr 06 22:19:57 PDT 2009  NO_QUERY   \n",
      "4             0  1467811193  Mon Apr 06 22:19:57 PDT 2009  NO_QUERY   \n",
      "...         ...         ...                           ...       ...   \n",
      "1599995       4  2193601966  Tue Jun 16 08:40:49 PDT 2009  NO_QUERY   \n",
      "1599996       4  2193601969  Tue Jun 16 08:40:49 PDT 2009  NO_QUERY   \n",
      "1599997       4  2193601991  Tue Jun 16 08:40:49 PDT 2009  NO_QUERY   \n",
      "1599998       4  2193602064  Tue Jun 16 08:40:49 PDT 2009  NO_QUERY   \n",
      "1599999       4  2193602129  Tue Jun 16 08:40:50 PDT 2009  NO_QUERY   \n",
      "\n",
      "                    user                                               text  \n",
      "0        _TheSpecialOne_  @switchfoot http://twitpic.com/2y1zl - Awww, t...  \n",
      "1          scotthamilton  is upset that he can't update his Facebook by ...  \n",
      "2               mattycus  @Kenichan I dived many times for the ball. Man...  \n",
      "3                ElleCTF    my whole body feels itchy and like its on fire   \n",
      "4                 Karoli  @nationwideclass no, it's not behaving at all....  \n",
      "...                  ...                                                ...  \n",
      "1599995  AmandaMarie1028  Just woke up. Having no school is the best fee...  \n",
      "1599996      TheWDBoards  TheWDB.com - Very cool to hear old Walt interv...  \n",
      "1599997           bpbabe  Are you ready for your MoJo Makeover? Ask me f...  \n",
      "1599998     tinydiamondz  Happy 38th Birthday to my boo of alll time!!! ...  \n",
      "1599999   RyanTrevMorris  happy #charitytuesday @theNSPCC @SparksCharity...  \n",
      "\n",
      "[1600000 rows x 6 columns]\n",
      "CPU times: user 2.52 s, sys: 325 ms, total: 2.85 s\n",
      "Wall time: 3.06 s\n"
     ]
    }
   ],
   "source": [
    "%%time\n",
    "dataset_columns = [\"target\", \"ids\", \"date\", \"flag\", \"user\", \"text\"]\n",
    "\n",
    "dataset=pd.read_csv('testdataset.csv',encoding='latin-1',lineterminator=\"\\n\",names=dataset_columns)\n",
    "print(dataset)"
   ]
  },
  {
   "cell_type": "code",
   "execution_count": 12,
   "id": "7b490a36-ffec-4a35-82b9-57995019b183",
   "metadata": {},
   "outputs": [
    {
     "name": "stdout",
     "output_type": "stream",
     "text": [
      "        target         ids                          date      flag  \\\n",
      "0            0  1467810369  Mon Apr 06 22:19:45 PDT 2009  NO_QUERY   \n",
      "1            0  1467810672  Mon Apr 06 22:19:49 PDT 2009  NO_QUERY   \n",
      "2            0  1467810917  Mon Apr 06 22:19:53 PDT 2009  NO_QUERY   \n",
      "3            0  1467811184  Mon Apr 06 22:19:57 PDT 2009  NO_QUERY   \n",
      "4            0  1467811193  Mon Apr 06 22:19:57 PDT 2009  NO_QUERY   \n",
      "...        ...         ...                           ...       ...   \n",
      "314130       4  2193601966  Tue Jun 16 08:40:49 PDT 2009  NO_QUERY   \n",
      "314131       4  2193601969  Tue Jun 16 08:40:49 PDT 2009  NO_QUERY   \n",
      "314132       4  2193601991  Tue Jun 16 08:40:49 PDT 2009  NO_QUERY   \n",
      "314133       4  2193602064  Tue Jun 16 08:40:49 PDT 2009  NO_QUERY   \n",
      "314134       4  2193602129  Tue Jun 16 08:40:50 PDT 2009  NO_QUERY   \n",
      "\n",
      "                   user                                               text  \n",
      "0       _TheSpecialOne_  @switchfoot http://twitpic.com/2y1zl - Awww, t...  \n",
      "1         scotthamilton  is upset that he can't update his Facebook by ...  \n",
      "2              mattycus  @Kenichan I dived many times for the ball. Man...  \n",
      "3               ElleCTF    my whole body feels itchy and like its on fire   \n",
      "4                Karoli  @nationwideclass no, it's not behaving at all....  \n",
      "...                 ...                                                ...  \n",
      "314130  AmandaMarie1028  Just woke up. Having no school is the best fee...  \n",
      "314131      TheWDBoards  TheWDB.com - Very cool to hear old Walt interv...  \n",
      "314132           bpbabe  Are you ready for your MoJo Makeover? Ask me f...  \n",
      "314133     tinydiamondz  Happy 38th Birthday to my boo of alll time!!! ...  \n",
      "314134   RyanTrevMorris  happy #charitytuesday @theNSPCC @SparksCharity...  \n",
      "\n",
      "[1600000 rows x 6 columns]\n",
      "CPU times: user 2.8 s, sys: 612 ms, total: 3.41 s\n",
      "Wall time: 2.56 s\n"
     ]
    }
   ],
   "source": [
    "%%time\n",
    "dataset_dask=ddf.read_csv('testdataset.csv',encoding='latin-1',lineterminator=\"\\n\",names=dataset_columns)\n",
    "print(dataset_dask.compute())\n"
   ]
  },
  {
   "cell_type": "code",
   "execution_count": 5,
   "id": "3aaecd2c-a2b8-4300-899d-e01106c3f7c1",
   "metadata": {},
   "outputs": [
    {
     "name": "stdout",
     "output_type": "stream",
     "text": [
      "CPU times: user 1.81 ms, sys: 861 µs, total: 2.67 ms\n",
      "Wall time: 3.7 ms\n"
     ]
    }
   ],
   "source": [
    "%%time\n",
    "#slice operation\n",
    "df1_dask=dataset_dask[['target','ids']]\n",
    "df2_dask=dataset_dask[['date','flag']]\n",
    "df3_dask=dataset_dask[['user','text']]"
   ]
  },
  {
   "cell_type": "code",
   "execution_count": 6,
   "id": "7ceef6ed-6aba-406e-b665-2f923d8d64c0",
   "metadata": {},
   "outputs": [
    {
     "name": "stdout",
     "output_type": "stream",
     "text": [
      "CPU times: user 75.6 ms, sys: 144 ms, total: 220 ms\n",
      "Wall time: 322 ms\n"
     ]
    }
   ],
   "source": [
    "%%time\n",
    "#slice operation\n",
    "df1=dataset[['target','ids']]\n",
    "df2=dataset[['date','flag']]\n",
    "df3=dataset[['user','text']]"
   ]
  },
  {
   "cell_type": "code",
   "execution_count": 7,
   "id": "25a170be-7473-4284-988d-e669d25ba188",
   "metadata": {},
   "outputs": [
    {
     "name": "stdout",
     "output_type": "stream",
     "text": [
      "CPU times: user 172 ms, sys: 84.4 ms, total: 256 ms\n",
      "Wall time: 312 ms\n"
     ]
    }
   ],
   "source": [
    "%%time\n",
    "#concat operation_pandas\n",
    "concate_dask=pd.concat([df1,df2,df3])"
   ]
  },
  {
   "cell_type": "code",
   "execution_count": 8,
   "id": "9005050c-97d5-464e-aa95-f2a98e57745b",
   "metadata": {},
   "outputs": [
    {
     "name": "stdout",
     "output_type": "stream",
     "text": [
      "CPU times: user 64.9 ms, sys: 29.2 ms, total: 94 ms\n",
      "Wall time: 101 ms\n"
     ]
    }
   ],
   "source": [
    "%%time\n",
    "#concat operation_dask\n",
    "concate_dask=ddf.concat([df1_dask,df2_dask,df3_dask])"
   ]
  },
  {
   "cell_type": "code",
   "execution_count": null,
   "id": "272f6fe8-7e05-47f9-9d5f-fa3e0631a20e",
   "metadata": {},
   "outputs": [],
   "source": []
  }
 ],
 "metadata": {
  "kernelspec": {
   "display_name": "Python 3 (ipykernel)",
   "language": "python",
   "name": "python3"
  },
  "language_info": {
   "codemirror_mode": {
    "name": "ipython",
    "version": 3
   },
   "file_extension": ".py",
   "mimetype": "text/x-python",
   "name": "python",
   "nbconvert_exporter": "python",
   "pygments_lexer": "ipython3",
   "version": "3.9.7"
  }
 },
 "nbformat": 4,
 "nbformat_minor": 5
}
