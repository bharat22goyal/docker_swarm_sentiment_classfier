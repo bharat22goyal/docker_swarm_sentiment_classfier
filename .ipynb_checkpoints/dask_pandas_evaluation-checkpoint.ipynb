{
 "cells": [
  {
   "cell_type": "code",
   "execution_count": 44,
   "id": "3c3aa63a-fffb-472a-adc2-39e09dbe719a",
   "metadata": {},
   "outputs": [
    {
     "name": "stdout",
     "output_type": "stream",
     "text": [
      "Requirement already satisfied: pyarrow in /Users/bharat/opt/anaconda3/lib/python3.9/site-packages (6.0.1)\n",
      "Requirement already satisfied: numpy>=1.16.6 in /Users/bharat/opt/anaconda3/lib/python3.9/site-packages (from pyarrow) (1.20.3)\n"
     ]
    }
   ],
   "source": [
    "!pip install pyarrow\n",
    "import time\n",
    "import pandas as pd\n",
    "from dask import dataframe as ddf\n",
    "import pyarrow\n",
    "import sqlite3"
   ]
  },
  {
   "cell_type": "code",
   "execution_count": 46,
   "id": "aafe17cf-8112-4481-8765-a4904b87a9f5",
   "metadata": {},
   "outputs": [
    {
     "name": "stdout",
     "output_type": "stream",
     "text": [
      "0.0003211498260498047\n"
     ]
    }
   ],
   "source": [
    "conn = sqlite3.connect('/Users/bharat/Documents/python_twitter/twitter-analysis/flask-api/disaster-tweets.db')\n",
    "c = conn.cursor()\n",
    "sql_query = pd.read_sql_query ('''\n",
    "                               SELECT\n",
    "                               *\n",
    "                               FROM disaster\n",
    "                               ''', conn)\n",
    "\n",
    "    # print(\"sql load time\")\n",
    "start_time = time.time()\n",
    "dataset = pd.DataFrame(sql_query, columns = ['text'])\n",
    "sql_load_time=(time.time() - start_time)\n",
    "print(sql_load_time)"
   ]
  },
  {
   "cell_type": "code",
   "execution_count": null,
   "id": "0cb6a8a1-4844-463d-b1be-06724eb41752",
   "metadata": {},
   "outputs": [
    {
     "ename": "AttributeError",
     "evalue": "module 'dask.dataframe' has no attribute 'read_sql_query'",
     "output_type": "error",
     "traceback": [
      "\u001b[0;31m---------------------------------------------------------------------------\u001b[0m",
      "\u001b[0;31mAttributeError\u001b[0m                            Traceback (most recent call last)",
      "\u001b[0;32m/var/folders/_r/dgkc216n411fbb69z_9b_blh0000gn/T/ipykernel_50655/3278241850.py\u001b[0m in \u001b[0;36m<module>\u001b[0;34m\u001b[0m\n\u001b[1;32m      1\u001b[0m \u001b[0mconn\u001b[0m \u001b[0;34m=\u001b[0m \u001b[0msqlite3\u001b[0m\u001b[0;34m.\u001b[0m\u001b[0mconnect\u001b[0m\u001b[0;34m(\u001b[0m\u001b[0;34m'/Users/bharat/Documents/python_twitter/twitter-analysis/flask-api/disaster-tweets.db'\u001b[0m\u001b[0;34m)\u001b[0m\u001b[0;34m\u001b[0m\u001b[0;34m\u001b[0m\u001b[0m\n\u001b[1;32m      2\u001b[0m \u001b[0mc\u001b[0m \u001b[0;34m=\u001b[0m \u001b[0mconn\u001b[0m\u001b[0;34m.\u001b[0m\u001b[0mcursor\u001b[0m\u001b[0;34m(\u001b[0m\u001b[0;34m)\u001b[0m\u001b[0;34m\u001b[0m\u001b[0;34m\u001b[0m\u001b[0m\n\u001b[0;32m----> 3\u001b[0;31m sql_query = ddf.read_sql_query ('''\n\u001b[0m\u001b[1;32m      4\u001b[0m                                \u001b[0mSELECT\u001b[0m\u001b[0;34m\u001b[0m\u001b[0;34m\u001b[0m\u001b[0m\n\u001b[1;32m      5\u001b[0m                                \u001b[0;34m*\u001b[0m\u001b[0;34m\u001b[0m\u001b[0;34m\u001b[0m\u001b[0m\n",
      "\u001b[0;31mAttributeError\u001b[0m: module 'dask.dataframe' has no attribute 'read_sql_query'"
     ]
    }
   ],
   "source": [
    "conn = sqlite3.connect('/Users/bharat/Documents/python_twitter/twitter-analysis/flask-api/disaster-tweets.db')\n",
    "c = conn.cursor()\n",
    "sql_query = ddf.read_sql_table ('''\n",
    "                               SELECT\n",
    "                               *\n",
    "                               FROM disaster\n",
    "                               ''', conn)\n",
    "\n",
    "    # print(\"sql load time\")\n",
    "start_time = time.time()\n",
    "dataset = pd.DataFrame(sql_query, columns = ['text'])\n",
    "sql_load_time=(time.time() - start_time)\n",
    "print(sql_load_time)"
   ]
  },
  {
   "cell_type": "code",
   "execution_count": 28,
   "id": "1a90dc33-63e8-4a4b-91fd-4118a596f12d",
   "metadata": {},
   "outputs": [
    {
     "name": "stdout",
     "output_type": "stream",
     "text": [
      "0.6490068435668945\n"
     ]
    }
   ],
   "source": [
    "start_time=time.time()\n",
    "df=pd.read_csv('/Users/bharat/Documents/python_twitter/twitter-analysis/disaster-tweets.csv',encoding='latin-1',lineterminator='\\n')\n",
    "time_pd=time.time()-start_time\n",
    "print(time_pd)"
   ]
  },
  {
   "cell_type": "code",
   "execution_count": 42,
   "id": "0a2da852-f931-44b7-b472-324d9171d4b7",
   "metadata": {},
   "outputs": [
    {
     "name": "stdout",
     "output_type": "stream",
     "text": [
      "0.06877374649047852\n"
     ]
    }
   ],
   "source": [
    "start_time=time.time()\n",
    "dask_df=ddf.read_csv('/Users/bharat/Documents/python_twitter/twitter-analysis/disaster-tweets.csv',encoding='latin-1',lineterminator='\\n')\n",
    "time_dask=time.time()-start_time\n",
    "\n",
    "print(time_dask)"
   ]
  },
  {
   "cell_type": "code",
   "execution_count": 35,
   "id": "1309c175-28ee-41a5-91f1-164cfe9c9609",
   "metadata": {},
   "outputs": [
    {
     "name": "stdout",
     "output_type": "stream",
     "text": [
      "2.3672759532928467\n"
     ]
    }
   ],
   "source": [
    "start_time=time.time()\n",
    "df=pd.read_parquet('/Users/bharat/Documents/python_twitter/twitter-analysis/disaster-tweets.parquet')\n",
    "time_pd=time.time()-start_time\n",
    "print(time_pd)"
   ]
  },
  {
   "cell_type": "code",
   "execution_count": 43,
   "id": "8b3f8cb8-3258-457c-a283-c4fc037866b0",
   "metadata": {},
   "outputs": [
    {
     "name": "stdout",
     "output_type": "stream",
     "text": [
      "0.022609233856201172\n"
     ]
    }
   ],
   "source": [
    "start_time=time.time()\n",
    "dask_df=ddf.read_parquet('/Users/bharat/Documents/python_twitter/twitter-analysis/disaster-tweets.parquet',encoding='latin-1',lineterminator='\\n')\n",
    "time_dask=time.time()-start_time\n",
    "\n",
    "print(time_dask)"
   ]
  }
 ],
 "metadata": {
  "kernelspec": {
   "display_name": "Python 3 (ipykernel)",
   "language": "python",
   "name": "python3"
  },
  "language_info": {
   "codemirror_mode": {
    "name": "ipython",
    "version": 3
   },
   "file_extension": ".py",
   "mimetype": "text/x-python",
   "name": "python",
   "nbconvert_exporter": "python",
   "pygments_lexer": "ipython3",
   "version": "3.9.7"
  }
 },
 "nbformat": 4,
 "nbformat_minor": 5
}
