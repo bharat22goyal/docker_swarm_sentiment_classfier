{
 "cells": [
  {
   "cell_type": "code",
   "execution_count": 44,
   "id": "3c3aa63a-fffb-472a-adc2-39e09dbe719a",
   "metadata": {},
   "outputs": [
    {
     "name": "stdout",
     "output_type": "stream",
     "text": [
      "Requirement already satisfied: pyarrow in /Users/bharat/opt/anaconda3/lib/python3.9/site-packages (6.0.1)\n",
      "Requirement already satisfied: numpy>=1.16.6 in /Users/bharat/opt/anaconda3/lib/python3.9/site-packages (from pyarrow) (1.20.3)\n"
     ]
    }
   ],
   "source": [
    "!pip install pyarrow\n",
    "import time\n",
    "import pandas as pd\n",
    "from dask import dataframe as ddf\n",
    "import pyarrow\n",
    "import sqlite3"
   ]
  },
  {
   "cell_type": "code",
   "execution_count": 62,
   "id": "1a90dc33-63e8-4a4b-91fd-4118a596f12d",
   "metadata": {},
   "outputs": [
    {
     "name": "stdout",
     "output_type": "stream",
     "text": [
      "(423906, 2)\n",
      "0.7189311981201172\n"
     ]
    }
   ],
   "source": [
    "start_time=time.time()\n",
    "df=pd.read_csv('/Users/bharat/Documents/python_twitter/twitter-analysis/disaster-tweets.csv',encoding='latin-1',lineterminator='\\n')\n",
    "time_pd=time.time()-start_time\n",
    "print(df.shape)\n",
    "print(time_pd)"
   ]
  },
  {
   "cell_type": "code",
   "execution_count": 42,
   "id": "0a2da852-f931-44b7-b472-324d9171d4b7",
   "metadata": {},
   "outputs": [
    {
     "name": "stdout",
     "output_type": "stream",
     "text": [
      "0.06877374649047852\n"
     ]
    }
   ],
   "source": [
    "start_time=time.time()\n",
    "dask_df=ddf.read_csv('/Users/bharat/Documents/python_twitter/twitter-analysis/disaster-tweets.csv',encoding='latin-1',lineterminator='\\n')\n",
    "time_dask=time.time()-start_time\n",
    "\n",
    "print(time_dask)"
   ]
  },
  {
   "cell_type": "code",
   "execution_count": 57,
   "id": "1309c175-28ee-41a5-91f1-164cfe9c9609",
   "metadata": {},
   "outputs": [
    {
     "name": "stdout",
     "output_type": "stream",
     "text": [
      "0.5252997875213623\n"
     ]
    }
   ],
   "source": [
    "start_time=time.time()\n",
    "df=pd.read_parquet('/Users/bharat/Documents/python_twitter/twitter-analysis/disaster-tweets.parquet')\n",
    "time_pd=time.time()-start_time\n",
    "print(time_pd)"
   ]
  },
  {
   "cell_type": "code",
   "execution_count": 61,
   "id": "8b3f8cb8-3258-457c-a283-c4fc037866b0",
   "metadata": {},
   "outputs": [
    {
     "name": "stdout",
     "output_type": "stream",
     "text": [
      "0.020973920822143555\n"
     ]
    }
   ],
   "source": [
    "start_time=time.time()\n",
    "dask_df=ddf.read_parquet('/Users/bharat/Documents/python_twitter/twitter-analysis/disaster-tweets.parquet',encoding='latin-1',lineterminator='\\n')\n",
    "time_dask=time.time()-start_time\n",
    "\n",
    "print(time_dask)"
   ]
  },
  {
   "cell_type": "code",
   "execution_count": null,
   "id": "ba21cec0-5760-44fc-bc62-72b48bb8ef5c",
   "metadata": {},
   "outputs": [],
   "source": []
  }
 ],
 "metadata": {
  "kernelspec": {
   "display_name": "Python 3 (ipykernel)",
   "language": "python",
   "name": "python3"
  },
  "language_info": {
   "codemirror_mode": {
    "name": "ipython",
    "version": 3
   },
   "file_extension": ".py",
   "mimetype": "text/x-python",
   "name": "python",
   "nbconvert_exporter": "python",
   "pygments_lexer": "ipython3",
   "version": "3.9.7"
  }
 },
 "nbformat": 4,
 "nbformat_minor": 5
}
